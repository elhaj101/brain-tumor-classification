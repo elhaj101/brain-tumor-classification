{
  "cells": [
    {
      "cell_type": "markdown",
      "metadata": {
        "id": "0aStgWSO0E0E"
      },
      "source": [
        "# **(Data Collection)**"
      ]
    },
    {
      "cell_type": "markdown",
      "metadata": {
        "id": "1eLEkw5O0ECa"
      },
      "source": [
        "## Objectives\n",
        "\n",
        "* Prepare and preprocess CT scan images for tumor detection modeling.\n",
        "* Merge tumor classes into a single \"tumor\" category.\n",
        "* Resize all images to 224x224 pixels and normalize pixel values.\n",
        "* Analyze and address class imbalance using oversampling and augmentation.\n",
        "* Save processed data and metadata for downstream modeling and visualization.\n",
        "\n",
        "## Inputs\n",
        "\n",
        "* Raw CT scan images (tumor and no-tumor) in their respective folders.\n",
        "* Any available metadata (e.g., image labels, file paths).\n",
        "\n",
        "## Outputs\n",
        "\n",
        "* Preprocessed images (224x224, normalized) saved to a structured directory.\n",
        "* A CSV or DataFrame containing image paths and labels.\n",
        "* Augmented images for minority class to address imbalance.\n",
        "* Summary statistics and visualizations of class distribution.\n",
        "\n",
        "## Additional Comments\n",
        "\n",
        "* All data must be anonymized and checked for quality before processing.\n",
        "* Oversampling and augmentation will be applied only to the minority class (no-tumor).\n",
        "* The notebook should be run top-down, with each step building on the previous.\n",
        "* Outputs will be used in subsequent modeling and visualization notebooks."
      ]
    },
    {
      "cell_type": "markdown",
      "metadata": {
        "id": "9uWZXH9LwoQg"
      },
      "source": [
        "---"
      ]
    },
    {
      "cell_type": "markdown",
      "metadata": {
        "id": "cqP-UeN-z3i2"
      },
      "source": [
        "# Change working directory"
      ]
    },
    {
      "cell_type": "markdown",
      "metadata": {},
      "source": [
        "* We are assuming you will store the notebooks in a subfolder, therefore when running the notebook in the editor, you will need to change the working directory"
      ]
    },
    {
      "cell_type": "markdown",
      "metadata": {
        "id": "aOGIGS-uz3i2"
      },
      "source": [
        "We need to change the working directory from its current folder to its parent folder\n",
        "* We access the current directory with os.getcwd()"
      ]
    },
    {
      "cell_type": "code",
      "execution_count": 1,
      "metadata": {
        "id": "wZfF_j-Bz3i4",
        "outputId": "66943449-1436-4c3d-85c7-b85f9f78349b"
      },
      "outputs": [
        {
          "data": {
            "text/plain": [
              "'/workspaces/brain-tumor-classification/jupyter_notebooks'"
            ]
          },
          "execution_count": 1,
          "metadata": {},
          "output_type": "execute_result"
        }
      ],
      "source": [
        "import os\n",
        "current_dir = os.getcwd()\n",
        "current_dir"
      ]
    },
    {
      "cell_type": "markdown",
      "metadata": {
        "id": "9MWW8E7lz3i7"
      },
      "source": [
        "We want to make the parent of the current directory the new current directory\n",
        "* os.path.dirname() gets the parent directory\n",
        "* os.chir() defines the new current directory"
      ]
    },
    {
      "cell_type": "code",
      "execution_count": null,
      "metadata": {
        "id": "TwHsQRWjz3i9",
        "outputId": "86849db3-cd2f-4cc5-ebb8-2d0caafa1a2c"
      },
      "outputs": [
        {
          "name": "stdout",
          "output_type": "stream",
          "text": [
            "You set a new current directory\n"
          ]
        }
      ],
      "source": [
        "os.chdir(os.path.dirname(current_dir))\n",
        "print(\"You set a new current directory\")"
      ]
    },
    {
      "cell_type": "markdown",
      "metadata": {
        "id": "M_xPk_Ijz3i-"
      },
      "source": [
        "Confirm the new current directory"
      ]
    },
    {
      "cell_type": "code",
      "execution_count": 3,
      "metadata": {
        "id": "vz3S-_kjz3jA",
        "outputId": "00b79ae4-75d0-4a96-d193-ac9ef9847ea2"
      },
      "outputs": [
        {
          "data": {
            "text/plain": [
              "'/workspaces/brain-tumor-classification'"
            ]
          },
          "execution_count": 3,
          "metadata": {},
          "output_type": "execute_result"
        }
      ],
      "source": [
        "current_dir = os.getcwd()\n",
        "current_dir"
      ]
    },
    {
      "cell_type": "markdown",
      "metadata": {
        "id": "-mavJ8DibrcQ"
      },
      "source": [
        "# Data preparation"
      ]
    },
    {
      "cell_type": "markdown",
      "metadata": {},
      "source": [
        "install important libraries and download data from kaggle"
      ]
    },
    {
      "cell_type": "code",
      "execution_count": 9,
      "metadata": {},
      "outputs": [
        {
          "name": "stdout",
          "output_type": "stream",
          "text": [
            "Requirement already satisfied: kagglehub in /home/cistudent/.local/lib/python3.12/site-packages (0.3.12)\n",
            "Requirement already satisfied: packaging in /home/cistudent/.pyenv/versions/3.12.1/lib/python3.12/site-packages (from kagglehub) (24.2)\n",
            "Requirement already satisfied: pyyaml in /home/cistudent/.pyenv/versions/3.12.1/lib/python3.12/site-packages (from kagglehub) (6.0.2)\n",
            "Requirement already satisfied: requests in /home/cistudent/.pyenv/versions/3.12.1/lib/python3.12/site-packages (from kagglehub) (2.32.3)\n",
            "Requirement already satisfied: tqdm in /home/cistudent/.local/lib/python3.12/site-packages (from kagglehub) (4.67.1)\n",
            "Requirement already satisfied: charset-normalizer<4,>=2 in /home/cistudent/.pyenv/versions/3.12.1/lib/python3.12/site-packages (from requests->kagglehub) (3.4.0)\n",
            "Requirement already satisfied: idna<4,>=2.5 in /home/cistudent/.pyenv/versions/3.12.1/lib/python3.12/site-packages (from requests->kagglehub) (3.10)\n",
            "Requirement already satisfied: urllib3<3,>=1.21.1 in /home/cistudent/.pyenv/versions/3.12.1/lib/python3.12/site-packages (from requests->kagglehub) (2.2.3)\n",
            "Requirement already satisfied: certifi>=2017.4.17 in /home/cistudent/.pyenv/versions/3.12.1/lib/python3.12/site-packages (from requests->kagglehub) (2024.12.14)\n",
            "\n",
            "\u001b[1m[\u001b[0m\u001b[34;49mnotice\u001b[0m\u001b[1;39;49m]\u001b[0m\u001b[39;49m A new release of pip is available: \u001b[0m\u001b[31;49m24.3.1\u001b[0m\u001b[39;49m -> \u001b[0m\u001b[32;49m25.1.1\u001b[0m\n",
            "\u001b[1m[\u001b[0m\u001b[34;49mnotice\u001b[0m\u001b[1;39;49m]\u001b[0m\u001b[39;49m To update, run: \u001b[0m\u001b[32;49mpip install --upgrade pip\u001b[0m\n",
            "Requirement already satisfied: opencv-python in /home/cistudent/.local/lib/python3.12/site-packages (4.11.0.86)\n",
            "Requirement already satisfied: numpy>=1.21.2 in /home/cistudent/.local/lib/python3.12/site-packages (from opencv-python) (1.26.1)\n",
            "\n",
            "\u001b[1m[\u001b[0m\u001b[34;49mnotice\u001b[0m\u001b[1;39;49m]\u001b[0m\u001b[39;49m A new release of pip is available: \u001b[0m\u001b[31;49m24.3.1\u001b[0m\u001b[39;49m -> \u001b[0m\u001b[32;49m25.1.1\u001b[0m\n",
            "\u001b[1m[\u001b[0m\u001b[34;49mnotice\u001b[0m\u001b[1;39;49m]\u001b[0m\u001b[39;49m To update, run: \u001b[0m\u001b[32;49mpip install --upgrade pip\u001b[0m\n",
            "Requirement already satisfied: pandas in /home/cistudent/.local/lib/python3.12/site-packages (2.1.1)\n",
            "Requirement already satisfied: numpy in /home/cistudent/.local/lib/python3.12/site-packages (1.26.1)\n",
            "Requirement already satisfied: python-dateutil>=2.8.2 in /home/cistudent/.pyenv/versions/3.12.1/lib/python3.12/site-packages (from pandas) (2.9.0.post0)\n",
            "Requirement already satisfied: pytz>=2020.1 in /home/cistudent/.local/lib/python3.12/site-packages (from pandas) (2025.2)\n",
            "Requirement already satisfied: tzdata>=2022.1 in /home/cistudent/.local/lib/python3.12/site-packages (from pandas) (2025.2)\n",
            "Requirement already satisfied: six>=1.5 in /home/cistudent/.pyenv/versions/3.12.1/lib/python3.12/site-packages (from python-dateutil>=2.8.2->pandas) (1.17.0)\n",
            "\n",
            "\u001b[1m[\u001b[0m\u001b[34;49mnotice\u001b[0m\u001b[1;39;49m]\u001b[0m\u001b[39;49m A new release of pip is available: \u001b[0m\u001b[31;49m24.3.1\u001b[0m\u001b[39;49m -> \u001b[0m\u001b[32;49m25.1.1\u001b[0m\n",
            "\u001b[1m[\u001b[0m\u001b[34;49mnotice\u001b[0m\u001b[1;39;49m]\u001b[0m\u001b[39;49m To update, run: \u001b[0m\u001b[32;49mpip install --upgrade pip\u001b[0m\n",
            "Requirement already satisfied: scikit-learn in /home/cistudent/.local/lib/python3.12/site-packages (1.6.1)\n",
            "Requirement already satisfied: numpy>=1.19.5 in /home/cistudent/.local/lib/python3.12/site-packages (from scikit-learn) (1.26.1)\n",
            "Requirement already satisfied: scipy>=1.6.0 in /home/cistudent/.local/lib/python3.12/site-packages (from scikit-learn) (1.15.3)\n",
            "Requirement already satisfied: joblib>=1.2.0 in /home/cistudent/.local/lib/python3.12/site-packages (from scikit-learn) (1.4.2)\n",
            "Requirement already satisfied: threadpoolctl>=3.1.0 in /home/cistudent/.local/lib/python3.12/site-packages (from scikit-learn) (3.6.0)\n",
            "\n",
            "\u001b[1m[\u001b[0m\u001b[34;49mnotice\u001b[0m\u001b[1;39;49m]\u001b[0m\u001b[39;49m A new release of pip is available: \u001b[0m\u001b[31;49m24.3.1\u001b[0m\u001b[39;49m -> \u001b[0m\u001b[32;49m25.1.1\u001b[0m\n",
            "\u001b[1m[\u001b[0m\u001b[34;49mnotice\u001b[0m\u001b[1;39;49m]\u001b[0m\u001b[39;49m To update, run: \u001b[0m\u001b[32;49mpip install --upgrade pip\u001b[0m\n",
            "Requirement already satisfied: matplotlib in /home/cistudent/.local/lib/python3.12/site-packages (3.8.0)\n",
            "Requirement already satisfied: seaborn in /home/cistudent/.local/lib/python3.12/site-packages (0.13.2)\n",
            "Requirement already satisfied: contourpy>=1.0.1 in /home/cistudent/.local/lib/python3.12/site-packages (from matplotlib) (1.3.2)\n",
            "Requirement already satisfied: cycler>=0.10 in /home/cistudent/.local/lib/python3.12/site-packages (from matplotlib) (0.12.1)\n",
            "Requirement already satisfied: fonttools>=4.22.0 in /home/cistudent/.local/lib/python3.12/site-packages (from matplotlib) (4.58.2)\n",
            "Requirement already satisfied: kiwisolver>=1.0.1 in /home/cistudent/.local/lib/python3.12/site-packages (from matplotlib) (1.4.8)\n",
            "Requirement already satisfied: numpy<2,>=1.21 in /home/cistudent/.local/lib/python3.12/site-packages (from matplotlib) (1.26.1)\n",
            "Requirement already satisfied: packaging>=20.0 in /home/cistudent/.pyenv/versions/3.12.1/lib/python3.12/site-packages (from matplotlib) (24.2)\n",
            "Requirement already satisfied: pillow>=6.2.0 in /home/cistudent/.local/lib/python3.12/site-packages (from matplotlib) (10.0.1)\n",
            "Requirement already satisfied: pyparsing>=2.3.1 in /home/cistudent/.local/lib/python3.12/site-packages (from matplotlib) (3.2.3)\n",
            "Requirement already satisfied: python-dateutil>=2.7 in /home/cistudent/.pyenv/versions/3.12.1/lib/python3.12/site-packages (from matplotlib) (2.9.0.post0)\n",
            "Requirement already satisfied: pandas>=1.2 in /home/cistudent/.local/lib/python3.12/site-packages (from seaborn) (2.1.1)\n",
            "Requirement already satisfied: pytz>=2020.1 in /home/cistudent/.local/lib/python3.12/site-packages (from pandas>=1.2->seaborn) (2025.2)\n",
            "Requirement already satisfied: tzdata>=2022.1 in /home/cistudent/.local/lib/python3.12/site-packages (from pandas>=1.2->seaborn) (2025.2)\n",
            "Requirement already satisfied: six>=1.5 in /home/cistudent/.pyenv/versions/3.12.1/lib/python3.12/site-packages (from python-dateutil>=2.7->matplotlib) (1.17.0)\n",
            "\n",
            "\u001b[1m[\u001b[0m\u001b[34;49mnotice\u001b[0m\u001b[1;39;49m]\u001b[0m\u001b[39;49m A new release of pip is available: \u001b[0m\u001b[31;49m24.3.1\u001b[0m\u001b[39;49m -> \u001b[0m\u001b[32;49m25.1.1\u001b[0m\n",
            "\u001b[1m[\u001b[0m\u001b[34;49mnotice\u001b[0m\u001b[1;39;49m]\u001b[0m\u001b[39;49m To update, run: \u001b[0m\u001b[32;49mpip install --upgrade pip\u001b[0m\n",
            "Requirement already satisfied: tensorflow in /home/cistudent/.local/lib/python3.12/site-packages (2.19.0)\n",
            "Requirement already satisfied: absl-py>=1.0.0 in /home/cistudent/.local/lib/python3.12/site-packages (from tensorflow) (2.3.0)\n",
            "Requirement already satisfied: astunparse>=1.6.0 in /home/cistudent/.local/lib/python3.12/site-packages (from tensorflow) (1.6.3)\n",
            "Requirement already satisfied: flatbuffers>=24.3.25 in /home/cistudent/.local/lib/python3.12/site-packages (from tensorflow) (25.2.10)\n",
            "Requirement already satisfied: gast!=0.5.0,!=0.5.1,!=0.5.2,>=0.2.1 in /home/cistudent/.local/lib/python3.12/site-packages (from tensorflow) (0.6.0)\n",
            "Requirement already satisfied: google-pasta>=0.1.1 in /home/cistudent/.local/lib/python3.12/site-packages (from tensorflow) (0.2.0)\n",
            "Requirement already satisfied: libclang>=13.0.0 in /home/cistudent/.local/lib/python3.12/site-packages (from tensorflow) (18.1.1)\n",
            "Requirement already satisfied: opt-einsum>=2.3.2 in /home/cistudent/.local/lib/python3.12/site-packages (from tensorflow) (3.4.0)\n",
            "Requirement already satisfied: packaging in /home/cistudent/.pyenv/versions/3.12.1/lib/python3.12/site-packages (from tensorflow) (24.2)\n",
            "Requirement already satisfied: protobuf!=4.21.0,!=4.21.1,!=4.21.2,!=4.21.3,!=4.21.4,!=4.21.5,<6.0.0dev,>=3.20.3 in /home/cistudent/.local/lib/python3.12/site-packages (from tensorflow) (4.25.8)\n",
            "Requirement already satisfied: requests<3,>=2.21.0 in /home/cistudent/.pyenv/versions/3.12.1/lib/python3.12/site-packages (from tensorflow) (2.32.3)\n",
            "Requirement already satisfied: setuptools in /home/cistudent/.pyenv/versions/3.12.1/lib/python3.12/site-packages (from tensorflow) (75.6.0)\n",
            "Requirement already satisfied: six>=1.12.0 in /home/cistudent/.pyenv/versions/3.12.1/lib/python3.12/site-packages (from tensorflow) (1.17.0)\n",
            "Requirement already satisfied: termcolor>=1.1.0 in /home/cistudent/.local/lib/python3.12/site-packages (from tensorflow) (3.1.0)\n",
            "Requirement already satisfied: typing-extensions>=3.6.6 in /home/cistudent/.pyenv/versions/3.12.1/lib/python3.12/site-packages (from tensorflow) (4.12.2)\n",
            "Requirement already satisfied: wrapt>=1.11.0 in /home/cistudent/.local/lib/python3.12/site-packages (from tensorflow) (1.17.2)\n",
            "Requirement already satisfied: grpcio<2.0,>=1.24.3 in /home/cistudent/.local/lib/python3.12/site-packages (from tensorflow) (1.72.1)\n",
            "Requirement already satisfied: tensorboard~=2.19.0 in /home/cistudent/.local/lib/python3.12/site-packages (from tensorflow) (2.19.0)\n",
            "Requirement already satisfied: keras>=3.5.0 in /home/cistudent/.local/lib/python3.12/site-packages (from tensorflow) (3.10.0)\n",
            "Requirement already satisfied: numpy<2.2.0,>=1.26.0 in /home/cistudent/.local/lib/python3.12/site-packages (from tensorflow) (1.26.1)\n",
            "Requirement already satisfied: h5py>=3.11.0 in /home/cistudent/.local/lib/python3.12/site-packages (from tensorflow) (3.14.0)\n",
            "Requirement already satisfied: ml-dtypes<1.0.0,>=0.5.1 in /home/cistudent/.local/lib/python3.12/site-packages (from tensorflow) (0.5.1)\n",
            "Requirement already satisfied: wheel<1.0,>=0.23.0 in /home/cistudent/.pyenv/versions/3.12.1/lib/python3.12/site-packages (from astunparse>=1.6.0->tensorflow) (0.45.1)\n",
            "Requirement already satisfied: rich in /home/cistudent/.pyenv/versions/3.12.1/lib/python3.12/site-packages (from keras>=3.5.0->tensorflow) (13.9.4)\n",
            "Requirement already satisfied: namex in /home/cistudent/.local/lib/python3.12/site-packages (from keras>=3.5.0->tensorflow) (0.1.0)\n",
            "Requirement already satisfied: optree in /home/cistudent/.local/lib/python3.12/site-packages (from keras>=3.5.0->tensorflow) (0.16.0)\n",
            "Requirement already satisfied: charset-normalizer<4,>=2 in /home/cistudent/.pyenv/versions/3.12.1/lib/python3.12/site-packages (from requests<3,>=2.21.0->tensorflow) (3.4.0)\n",
            "Requirement already satisfied: idna<4,>=2.5 in /home/cistudent/.pyenv/versions/3.12.1/lib/python3.12/site-packages (from requests<3,>=2.21.0->tensorflow) (3.10)\n",
            "Requirement already satisfied: urllib3<3,>=1.21.1 in /home/cistudent/.pyenv/versions/3.12.1/lib/python3.12/site-packages (from requests<3,>=2.21.0->tensorflow) (2.2.3)\n",
            "Requirement already satisfied: certifi>=2017.4.17 in /home/cistudent/.pyenv/versions/3.12.1/lib/python3.12/site-packages (from requests<3,>=2.21.0->tensorflow) (2024.12.14)\n",
            "Requirement already satisfied: markdown>=2.6.8 in /home/cistudent/.local/lib/python3.12/site-packages (from tensorboard~=2.19.0->tensorflow) (3.8)\n",
            "Requirement already satisfied: tensorboard-data-server<0.8.0,>=0.7.0 in /home/cistudent/.local/lib/python3.12/site-packages (from tensorboard~=2.19.0->tensorflow) (0.7.2)\n",
            "Requirement already satisfied: werkzeug>=1.0.1 in /home/cistudent/.local/lib/python3.12/site-packages (from tensorboard~=2.19.0->tensorflow) (3.1.3)\n",
            "Requirement already satisfied: MarkupSafe>=2.1.1 in /home/cistudent/.pyenv/versions/3.12.1/lib/python3.12/site-packages (from werkzeug>=1.0.1->tensorboard~=2.19.0->tensorflow) (3.0.2)\n",
            "Requirement already satisfied: markdown-it-py>=2.2.0 in /home/cistudent/.pyenv/versions/3.12.1/lib/python3.12/site-packages (from rich->keras>=3.5.0->tensorflow) (3.0.0)\n",
            "Requirement already satisfied: pygments<3.0.0,>=2.13.0 in /home/cistudent/.pyenv/versions/3.12.1/lib/python3.12/site-packages (from rich->keras>=3.5.0->tensorflow) (2.18.0)\n",
            "Requirement already satisfied: mdurl~=0.1 in /home/cistudent/.pyenv/versions/3.12.1/lib/python3.12/site-packages (from markdown-it-py>=2.2.0->rich->keras>=3.5.0->tensorflow) (0.1.2)\n",
            "\n",
            "\u001b[1m[\u001b[0m\u001b[34;49mnotice\u001b[0m\u001b[1;39;49m]\u001b[0m\u001b[39;49m A new release of pip is available: \u001b[0m\u001b[31;49m24.3.1\u001b[0m\u001b[39;49m -> \u001b[0m\u001b[32;49m25.1.1\u001b[0m\n",
            "\u001b[1m[\u001b[0m\u001b[34;49mnotice\u001b[0m\u001b[1;39;49m]\u001b[0m\u001b[39;49m To update, run: \u001b[0m\u001b[32;49mpip install --upgrade pip\u001b[0m\n",
            "Requirement already satisfied: keras in /home/cistudent/.local/lib/python3.12/site-packages (3.10.0)\n",
            "Requirement already satisfied: absl-py in /home/cistudent/.local/lib/python3.12/site-packages (from keras) (2.3.0)\n",
            "Requirement already satisfied: numpy in /home/cistudent/.local/lib/python3.12/site-packages (from keras) (1.26.1)\n",
            "Requirement already satisfied: rich in /home/cistudent/.pyenv/versions/3.12.1/lib/python3.12/site-packages (from keras) (13.9.4)\n",
            "Requirement already satisfied: namex in /home/cistudent/.local/lib/python3.12/site-packages (from keras) (0.1.0)\n",
            "Requirement already satisfied: h5py in /home/cistudent/.local/lib/python3.12/site-packages (from keras) (3.14.0)\n",
            "Requirement already satisfied: optree in /home/cistudent/.local/lib/python3.12/site-packages (from keras) (0.16.0)\n",
            "Requirement already satisfied: ml-dtypes in /home/cistudent/.local/lib/python3.12/site-packages (from keras) (0.5.1)\n",
            "Requirement already satisfied: packaging in /home/cistudent/.pyenv/versions/3.12.1/lib/python3.12/site-packages (from keras) (24.2)\n",
            "Requirement already satisfied: typing-extensions>=4.6.0 in /home/cistudent/.pyenv/versions/3.12.1/lib/python3.12/site-packages (from optree->keras) (4.12.2)\n",
            "Requirement already satisfied: markdown-it-py>=2.2.0 in /home/cistudent/.pyenv/versions/3.12.1/lib/python3.12/site-packages (from rich->keras) (3.0.0)\n",
            "Requirement already satisfied: pygments<3.0.0,>=2.13.0 in /home/cistudent/.pyenv/versions/3.12.1/lib/python3.12/site-packages (from rich->keras) (2.18.0)\n",
            "Requirement already satisfied: mdurl~=0.1 in /home/cistudent/.pyenv/versions/3.12.1/lib/python3.12/site-packages (from markdown-it-py>=2.2.0->rich->keras) (0.1.2)\n",
            "\n",
            "\u001b[1m[\u001b[0m\u001b[34;49mnotice\u001b[0m\u001b[1;39;49m]\u001b[0m\u001b[39;49m A new release of pip is available: \u001b[0m\u001b[31;49m24.3.1\u001b[0m\u001b[39;49m -> \u001b[0m\u001b[32;49m25.1.1\u001b[0m\n",
            "\u001b[1m[\u001b[0m\u001b[34;49mnotice\u001b[0m\u001b[1;39;49m]\u001b[0m\u001b[39;49m To update, run: \u001b[0m\u001b[32;49mpip install --upgrade pip\u001b[0m\n",
            "Requirement already satisfied: imbalanced-learn in /home/cistudent/.local/lib/python3.12/site-packages (0.13.0)\n",
            "Requirement already satisfied: numpy<3,>=1.24.3 in /home/cistudent/.local/lib/python3.12/site-packages (from imbalanced-learn) (1.26.1)\n",
            "Requirement already satisfied: scipy<2,>=1.10.1 in /home/cistudent/.local/lib/python3.12/site-packages (from imbalanced-learn) (1.15.3)\n",
            "Requirement already satisfied: scikit-learn<2,>=1.3.2 in /home/cistudent/.local/lib/python3.12/site-packages (from imbalanced-learn) (1.6.1)\n",
            "Requirement already satisfied: sklearn-compat<1,>=0.1 in /home/cistudent/.local/lib/python3.12/site-packages (from imbalanced-learn) (0.1.3)\n",
            "Requirement already satisfied: joblib<2,>=1.1.1 in /home/cistudent/.local/lib/python3.12/site-packages (from imbalanced-learn) (1.4.2)\n",
            "Requirement already satisfied: threadpoolctl<4,>=2.0.0 in /home/cistudent/.local/lib/python3.12/site-packages (from imbalanced-learn) (3.6.0)\n",
            "\n",
            "\u001b[1m[\u001b[0m\u001b[34;49mnotice\u001b[0m\u001b[1;39;49m]\u001b[0m\u001b[39;49m A new release of pip is available: \u001b[0m\u001b[31;49m24.3.1\u001b[0m\u001b[39;49m -> \u001b[0m\u001b[32;49m25.1.1\u001b[0m\n",
            "\u001b[1m[\u001b[0m\u001b[34;49mnotice\u001b[0m\u001b[1;39;49m]\u001b[0m\u001b[39;49m To update, run: \u001b[0m\u001b[32;49mpip install --upgrade pip\u001b[0m\n",
            "Requirement already satisfied: tqdm in /home/cistudent/.local/lib/python3.12/site-packages (4.67.1)\n",
            "\n",
            "\u001b[1m[\u001b[0m\u001b[34;49mnotice\u001b[0m\u001b[1;39;49m]\u001b[0m\u001b[39;49m A new release of pip is available: \u001b[0m\u001b[31;49m24.3.1\u001b[0m\u001b[39;49m -> \u001b[0m\u001b[32;49m25.1.1\u001b[0m\n",
            "\u001b[1m[\u001b[0m\u001b[34;49mnotice\u001b[0m\u001b[1;39;49m]\u001b[0m\u001b[39;49m To update, run: \u001b[0m\u001b[32;49mpip install --upgrade pip\u001b[0m\n",
            "Path to dataset files: /home/cistudent/.cache/kagglehub/datasets/masoudnickparvar/brain-tumor-mri-dataset/versions/1\n"
          ]
        }
      ],
      "source": [
        "!pip install kagglehub\n",
        "!pip install opencv-python\n",
        "!pip install pandas numpy\n",
        "!pip install scikit-learn\n",
        "!pip install matplotlib seaborn\n",
        "!pip install tensorflow\n",
        "!pip install keras\n",
        "!pip install imbalanced-learn\n",
        "!pip install tqdm\n",
        "\n",
        "import kagglehub\n",
        "path = kagglehub.dataset_download(\"masoudnickparvar/brain-tumor-mri-dataset\")\n",
        "print(\"Path to dataset files:\", path)\n",
        "\n",
        "import shutil\n",
        "import os\n",
        "\n",
        "src = \"/home/cistudent/.cache/kagglehub/datasets/masoudnickparvar/brain-tumor-mri-dataset/versions/1\"\n",
        "dst = \"/workspaces/brain-tumor-classification/data\"\n",
        "\n",
        "if not os.path.exists(dst):\n",
        "    os.makedirs(dst)\n",
        "\n",
        "for folder in os.listdir(src):\n",
        "    shutil.copytree(os.path.join(src, folder), os.path.join(dst, folder), dirs_exist_ok=True)"
      ]
    },
    {
      "cell_type": "markdown",
      "metadata": {},
      "source": [
        "**Data Organization**\n",
        "\n",
        "Data is downloaded and stored in the **data** folder in the root\n",
        "different tumour types are in seperate folders in the data folder\n",
        "no_tumour folder data also exists in the data folder in the root"
      ]
    },
    {
      "cell_type": "markdown",
      "metadata": {},
      "source": [
        "**Image Quality Check:**\n",
        "\n",
        "Review images for quality, removing corrupted, low-resolution, or irrelevant scans."
      ]
    },
    {
      "cell_type": "code",
      "execution_count": 16,
      "metadata": {},
      "outputs": [
        {
          "name": "stdout",
          "output_type": "stream",
          "text": [
            "Corrupted images: []\n",
            "Low-resolution images: []\n"
          ]
        }
      ],
      "source": [
        "# using (Pillow)\n",
        "from PIL import Image\n",
        "import os\n",
        "\n",
        "image_dir = \"./data\"\n",
        "min_width, min_height = 100, 100\n",
        "\n",
        "corrupted_images = []\n",
        "low_res_images = []\n",
        "\n",
        "for root, dirs, files in os.walk(image_dir):\n",
        "    for file in files:\n",
        "        if file.lower().endswith(('.png', '.jpg', '.jpeg', '.bmp', '.tiff')):\n",
        "            img_path = os.path.join(root, file)\n",
        "            try:\n",
        "                with Image.open(img_path) as img:\n",
        "                    w, h = img.size\n",
        "                    if h < min_height or w < min_width:\n",
        "                        low_res_images.append(img_path)\n",
        "            except Exception as e:\n",
        "                corrupted_images.append(img_path)\n",
        "\n",
        "print(\"Corrupted images:\", corrupted_images)\n",
        "print(\"Low-resolution images:\", low_res_images)\n",
        "\n",
        "# remove these files\n",
        "for img_path in corrupted_images + low_res_images:\n",
        "    try:\n",
        "        os.remove(img_path)\n",
        "    except Exception as e:\n",
        "        print(f\"Could not remove {img_path}: {e}\")"
      ]
    },
    {
      "cell_type": "markdown",
      "metadata": {},
      "source": [
        "**Label Verification: Ensure that each image is correctly labeled (tumor or no-tumor).**\n",
        "\n",
        "\n",
        "\n",
        "Confirms each image is in the correct folder.\n",
        "Creates a table of image paths and their labels.\n",
        "spot any mislabeling or misplaced files.\n",
        "inspect the DataFrame or CSV for errors."
      ]
    },
    {
      "cell_type": "code",
      "execution_count": 20,
      "metadata": {},
      "outputs": [
        {
          "name": "stdout",
          "output_type": "stream",
          "text": [
            "                        image_path      label\n",
            "0  ./data/pituitary/Tr-pi_0837.jpg  pituitary\n",
            "1  ./data/pituitary/Te-pi_0263.jpg  pituitary\n",
            "2  ./data/pituitary/Tr-pi_1277.jpg  pituitary\n",
            "3  ./data/pituitary/Te-pi_0156.jpg  pituitary\n",
            "4  ./data/pituitary/Tr-pi_1414.jpg  pituitary\n",
            "Label counts:\n",
            " label\n",
            "notumor       2000\n",
            "pituitary     1757\n",
            "meningioma    1645\n",
            "glioma        1621\n",
            "Name: count, dtype: int64\n"
          ]
        }
      ],
      "source": [
        "import os\n",
        "import pandas as pd\n",
        "\n",
        "image_dir = \"./data\"\n",
        "data = []\n",
        "\n",
        "for label in os.listdir(image_dir):\n",
        "    label_path = os.path.join(image_dir, label)\n",
        "    if os.path.isdir(label_path):\n",
        "        for file in os.listdir(label_path):\n",
        "            if file.lower().endswith(('.png', '.jpg', '.jpeg', '.bmp', '.tiff')):\n",
        "                img_path = os.path.join(label_path, file)\n",
        "                data.append({\"image_path\": img_path, \"label\": label})\n",
        "\n",
        "df = pd.DataFrame(data)\n",
        "print(df.head())\n",
        "print(\"Label counts:\\n\", df['label'].value_counts())\n",
        "\n",
        "# Optionally, save to CSV for further use\n",
        "df.to_csv(\"image_labels.csv\", index=False)"
      ]
    },
    {
      "cell_type": "markdown",
      "metadata": {},
      "source": [
        "**Image Preprocessing:**\n",
        "\n",
        "Resizing: Standardize to a consistent size (e.g., 224x224 pixels) to match model input requirements.\n",
        "\n",
        "Normalization: Scale pixel values (e.g., to a 0-1 range) to improve model training stability.\n",
        "\n",
        "Format Conversion: Convert images to a consistent format (e.g., PNG or JPEG) if necessary. \n",
        "\n",
        "Class Merging: If there are multiple tumor types, combine them into a single \"tumor\" class if the modeling goal is binary classification."
      ]
    },
    {
      "cell_type": "code",
      "execution_count": 22,
      "metadata": {},
      "outputs": [
        {
          "name": "stdout",
          "output_type": "stream",
          "text": [
            "Error resizing ./data/notumor/Tr-no_1012.jpg: cannot write mode P as JPEG\n",
            "Error resizing ./data/notumor/Tr-no_1019.jpg: cannot write mode RGBA as JPEG\n",
            "Error resizing ./data/notumor/Tr-no_1020.jpg: cannot write mode RGBA as JPEG\n",
            "Error resizing ./data/notumor/Tr-no_1011.jpg: cannot write mode RGBA as JPEG\n",
            "Resizing complete. Images saved to: ./resized_data\n"
          ]
        }
      ],
      "source": [
        "from PIL import Image\n",
        "import os\n",
        "\n",
        "input_dir = \"./data\"\n",
        "resized_dir = \"./resized_data\"\n",
        "target_size = (224, 224)\n",
        "\n",
        "if not os.path.exists(resized_dir):\n",
        "    os.makedirs(resized_dir)\n",
        "\n",
        "for root, dirs, files in os.walk(input_dir):\n",
        "    for file in files:\n",
        "        if file.lower().endswith(('.png', '.jpg', '.jpeg', '.bmp', '.tiff')):\n",
        "            img_path = os.path.join(root, file)\n",
        "            rel_dir = os.path.relpath(root, input_dir)\n",
        "            out_dir = os.path.join(resized_dir, rel_dir)\n",
        "            if not os.path.exists(out_dir):\n",
        "                os.makedirs(out_dir)\n",
        "            out_path = os.path.join(out_dir, file)\n",
        "            try:\n",
        "                with Image.open(img_path) as img:\n",
        "                    img = img.resize(target_size)\n",
        "                    img.save(out_path)\n",
        "            except Exception as e:\n",
        "                print(f\"Error resizing {img_path}: {e}\")\n",
        "print(\"Resizing complete. Images saved to:\", resized_dir)"
      ]
    },
    {
      "cell_type": "code",
      "execution_count": 24,
      "metadata": {},
      "outputs": [
        {
          "name": "stdout",
          "output_type": "stream",
          "text": [
            "Normalization and format conversion complete. Images saved to: ./normalized_data\n"
          ]
        }
      ],
      "source": [
        "import numpy as np\n",
        "\n",
        "normalized_dir = \"./normalized_data\"\n",
        "\n",
        "if not os.path.exists(normalized_dir):\n",
        "    os.makedirs(normalized_dir)\n",
        "\n",
        "for root, dirs, files in os.walk(resized_dir):\n",
        "    for file in files:\n",
        "        if file.lower().endswith(('.png', '.jpg', '.jpeg', '.bmp', '.tiff')):\n",
        "            img_path = os.path.join(root, file)\n",
        "            rel_dir = os.path.relpath(root, resized_dir)\n",
        "            out_dir = os.path.join(normalized_dir, rel_dir)\n",
        "            if not os.path.exists(out_dir):\n",
        "                os.makedirs(out_dir)\n",
        "            out_path = os.path.join(out_dir, os.path.splitext(file)[0] + \".png\")  # Convert to PNG\n",
        "            try:\n",
        "                with Image.open(img_path) as img:\n",
        "                    img = img.convert(\"RGB\")\n",
        "                    arr = np.array(img) / 255.0  # Normalize to 0-1\n",
        "                    img_norm = Image.fromarray((arr * 255).astype(np.uint8))\n",
        "                    img_norm.save(out_path, \"PNG\")\n",
        "            except Exception as e:\n",
        "                print(f\"Error normalizing {img_path}: {e}\")\n",
        "print(\"Normalization and format conversion complete. Images saved to:\", normalized_dir)"
      ]
    },
    {
      "cell_type": "code",
      "execution_count": 26,
      "metadata": {},
      "outputs": [
        {
          "name": "stdout",
          "output_type": "stream",
          "text": [
            "Class merging complete. Images saved to: ./merged_data\n"
          ]
        }
      ],
      "source": [
        "merged_dir = \"./merged_data\"\n",
        "tumor_folders = [\"glioma\", \"meningioma\", \"pituitary\"]\n",
        "notumor_folder = \"notumor\"\n",
        "\n",
        "if not os.path.exists(merged_dir):\n",
        "    os.makedirs(merged_dir)\n",
        "\n",
        "for label in os.listdir(normalized_dir):\n",
        "    label_path = os.path.join(normalized_dir, label)\n",
        "    if not os.path.isdir(label_path):\n",
        "        continue\n",
        "\n",
        "    # Merge tumor classes\n",
        "    if label.lower() in tumor_folders:\n",
        "        out_label = \"tumor\"\n",
        "    elif label.lower() == notumor_folder:\n",
        "        out_label = \"notumor\"\n",
        "    else:\n",
        "        continue\n",
        "\n",
        "    out_label_dir = os.path.join(merged_dir, out_label)\n",
        "    if not os.path.exists(out_label_dir):\n",
        "        os.makedirs(out_label_dir)\n",
        "\n",
        "    for file in os.listdir(label_path):\n",
        "        src_file = os.path.join(label_path, file)\n",
        "        dst_file = os.path.join(out_label_dir, file)\n",
        "        try:\n",
        "            os.rename(src_file, dst_file)\n",
        "        except Exception as e:\n",
        "            print(f\"Error moving {src_file}: {e}\")\n",
        "print(\"Class merging complete. Images saved to:\", merged_dir)"
      ]
    },
    {
      "cell_type": "markdown",
      "metadata": {},
      "source": [
        "check for class imbalance in updated  dataset\n",
        "\n",
        "also define df again as it's been changed after processing"
      ]
    },
    {
      "cell_type": "code",
      "execution_count": 5,
      "metadata": {},
      "outputs": [
        {
          "name": "stdout",
          "output_type": "stream",
          "text": [
            "Label counts:\n",
            " label\n",
            "tumor      5023\n",
            "notumor    1996\n",
            "Name: count, dtype: int64\n"
          ]
        },
        {
          "data": {
            "image/png": "[encoded data removed]",
            "text/plain": [
              "<Figure size 600x400 with 1 Axes>"
            ]
          },
          "metadata": {},
          "output_type": "display_data"
        }
      ],
      "source": [
        "import pandas as pd\n",
        "import os\n",
        "\n",
        "merged_dir = \"./merged_data\"\n",
        "data = []\n",
        "\n",
        "for label in os.listdir(merged_dir):\n",
        "    label_path = os.path.join(merged_dir, label)\n",
        "    if os.path.isdir(label_path):\n",
        "        for file in os.listdir(label_path):\n",
        "            if file.lower().endswith(('.png', '.jpg', '.jpeg', '.bmp', '.tiff')):\n",
        "                img_path = os.path.join(label_path, file)\n",
        "                data.append({\"image_path\": img_path, \"label\": label})\n",
        "\n",
        "df = pd.DataFrame(data)\n",
        "print(\"Label counts:\\n\", df['label'].value_counts())\n",
        "\n",
        "# Optional: visualize class distribution\n",
        "import matplotlib.pyplot as plt\n",
        "import seaborn as sns\n",
        "\n",
        "plt.figure(figsize=(6,4))\n",
        "sns.countplot(x='label', data=df)\n",
        "plt.title('Class Distribution After Merging')\n",
        "plt.xlabel('Class')\n",
        "plt.ylabel('Number of Images')\n",
        "plt.show()"
      ]
    },
    {
      "cell_type": "markdown",
      "metadata": {},
      "source": [
        "we have had a clear imbalance here between the two classes quantity"
      ]
    },
    {
      "cell_type": "markdown",
      "metadata": {
        "id": "ZY3l0-AxO93d"
      },
      "source": [
        "---"
      ]
    },
    {
      "cell_type": "markdown",
      "metadata": {
        "id": "uFQo3ycuO-v6"
      },
      "source": [
        "# Splitting the data and augementing"
      ]
    },
    {
      "cell_type": "markdown",
      "metadata": {},
      "source": [
        "Importing necessary libraries"
      ]
    },
    {
      "cell_type": "code",
      "execution_count": 14,
      "metadata": {},
      "outputs": [],
      "source": [
        "import os\n",
        "import numpy as np\n",
        "import shutil\n",
        "from tensorflow.keras.preprocessing.image import ImageDataGenerator, img_to_array, load_img, array_to_img\n",
        "from sklearn.model_selection import train_test_split\n",
        "from tqdm import tqdm\n",
        "\n",
        "# Set random seeds for reproducibility\n",
        "SEED = 42\n",
        "np.random.seed(SEED)"
      ]
    },
    {
      "cell_type": "markdown",
      "metadata": {},
      "source": [
        "Now to splitting data into  train, validation, and test sets.\n",
        "\n",
        "We split the data before augementing it not to mix original and edited data."
      ]
    },
    {
      "cell_type": "code",
      "execution_count": 16,
      "metadata": {},
      "outputs": [],
      "source": [
        "def create_splits(base_dir, output_dir, test_size=0.15, val_size=0.15):\n",
        "    \"\"\"Split data into train/val/test directories, but do NOT create new folders.\"\"\"\n",
        "    for class_name in ['tumor', 'notumor']:\n",
        "        class_path = os.path.join(base_dir, class_name)\n",
        "        if not os.path.isdir(class_path):\n",
        "            raise FileNotFoundError(f\"Expected folder not found: {class_path}\")\n",
        "        images = [f for f in os.listdir(class_path) if f.endswith(('.png','.jpg','.jpeg'))]\n",
        "        \n",
        "        # Initial split: train+val vs test\n",
        "        train_val, test = train_test_split(images, test_size=test_size, random_state=SEED)\n",
        "        \n",
        "        # Split train_val into train and val\n",
        "        val_ratio = val_size / (1 - test_size)\n",
        "        train, val = train_test_split(train_val, test_size=val_ratio, random_state=SEED)\n",
        "        \n",
        "        # Save to respective directories (must already exist)\n",
        "        for split_name, split_data in [('train', train), ('val', val), ('test', test)]:\n",
        "            dest_dir = os.path.join(output_dir, split_name, class_name)\n",
        "            if not os.path.isdir(dest_dir):\n",
        "                raise FileNotFoundError(f\"Destination folder does not exist: {dest_dir}\")\n",
        "            for img_file in split_data:\n",
        "                src = os.path.join(class_path, img_file)\n",
        "                dst = os.path.join(dest_dir, img_file)\n",
        "                shutil.copy(src, dst)"
      ]
    },
    {
      "cell_type": "code",
      "execution_count": 27,
      "metadata": {},
      "outputs": [],
      "source": [
        "create_splits(\n",
        "    base_dir=\"./merged_data\",\n",
        "    output_dir=\"inputs/brain_tumor_dataset/images\",\n",
        "    test_size=0.15,\n",
        "    val_size=0.15\n",
        ")"
      ]
    },
    {
      "cell_type": "markdown",
      "metadata": {},
      "source": [
        "start augementation\n",
        "\n",
        "Use the split training data as the source.\n",
        "Augment the minority class in place."
      ]
    },
    {
      "cell_type": "code",
      "execution_count": 29,
      "metadata": {},
      "outputs": [
        {
          "name": "stdout",
          "output_type": "stream",
          "text": [
            "Class counts in training set: {'notumor': 1396, 'tumor': 3515}\n",
            "Majority: tumor, Minority: notumor, To generate: 2119\n"
          ]
        },
        {
          "name": "stderr",
          "output_type": "stream",
          "text": [
            "Augmenting notumor: 100%|██████████| 2119/2119 [00:58<00:00, 36.15it/s]"
          ]
        },
        {
          "name": "stdout",
          "output_type": "stream",
          "text": [
            "Augmentation complete.\n"
          ]
        },
        {
          "name": "stderr",
          "output_type": "stream",
          "text": [
            "\n"
          ]
        }
      ],
      "source": [
        "def augment_training_set(train_dir):\n",
        "    import os\n",
        "    import numpy as np\n",
        "    from tensorflow.keras.preprocessing.image import ImageDataGenerator, img_to_array, load_img, array_to_img\n",
        "    from tqdm import tqdm\n",
        "\n",
        "    SEED = 42\n",
        "\n",
        "    # Count images per class in the split training set\n",
        "    class_counts = {}\n",
        "    for label in os.listdir(train_dir):\n",
        "        class_path = os.path.join(train_dir, label)\n",
        "        if os.path.isdir(class_path):\n",
        "            class_counts[label] = len([\n",
        "                f for f in os.listdir(class_path)\n",
        "                if f.lower().endswith(('.png','.jpg','.jpeg'))\n",
        "            ])\n",
        "    print(\"Class counts in training set:\", class_counts)\n",
        "    majority_class = max(class_counts, key=class_counts.get)\n",
        "    minority_class = min(class_counts, key=class_counts.get)\n",
        "    n_to_generate = class_counts[majority_class] - class_counts[minority_class]\n",
        "    print(f\"Majority: {majority_class}, Minority: {minority_class}, To generate: {n_to_generate}\")\n",
        "\n",
        "    datagen = ImageDataGenerator(\n",
        "        rotation_range=20,\n",
        "        width_shift_range=0.1,\n",
        "        height_shift_range=0.1,\n",
        "        shear_range=0.1,\n",
        "        zoom_range=0.1,\n",
        "        horizontal_flip=True,\n",
        "        fill_mode='nearest'\n",
        "    )\n",
        "\n",
        "    minority_path = os.path.join(train_dir, minority_class)\n",
        "    image_files = [f for f in os.listdir(minority_path) if f.lower().endswith(('.png','.jpg','.jpeg'))]\n",
        "\n",
        "    for i in tqdm(range(n_to_generate), desc=f\"Augmenting {minority_class}\"):\n",
        "        img_file = image_files[i % len(image_files)]\n",
        "        img_path = os.path.join(minority_path, img_file)\n",
        "        img = load_img(img_path)\n",
        "        x = img_to_array(img)\n",
        "        x = np.expand_dims(x, axis=0)\n",
        "        aug_iter = datagen.flow(x, batch_size=1, seed=SEED)\n",
        "        aug_img = next(aug_iter)[0].astype(np.uint8)\n",
        "        aug_img_pil = array_to_img(aug_img)\n",
        "        aug_img_name = f\"aug_{i}_{img_file}\"\n",
        "        aug_img_pil.save(os.path.join(minority_path, aug_img_name))\n",
        "    print(\"Augmentation complete.\")\n",
        "\n",
        "# Call the function on your split training set\n",
        "augment_training_set(\"inputs/brain_tumor_dataset/images/train\")"
      ]
    },
    {
      "cell_type": "markdown",
      "metadata": {},
      "source": [
        "Checking balance again "
      ]
    },
    {
      "cell_type": "code",
      "execution_count": 32,
      "metadata": {},
      "outputs": [
        {
          "data": {
            "image/png": "[encoded data removed]",
            "text/plain": [
              "<Figure size 600x400 with 1 Axes>"
            ]
          },
          "metadata": {},
          "output_type": "display_data"
        }
      ],
      "source": [
        "import pandas as pd\n",
        "\n",
        "train_dir = \"inputs/brain_tumor_dataset/images/train\"\n",
        "train_data = []\n",
        "\n",
        "for label in os.listdir(train_dir):\n",
        "    class_path = os.path.join(train_dir, label)\n",
        "    if os.path.isdir(class_path):\n",
        "        for file in os.listdir(class_path):\n",
        "            if file.lower().endswith(('.png', '.jpg', '.jpeg')):\n",
        "                train_data.append({'image_path': os.path.join(class_path, file), 'label': label})\n",
        "\n",
        "train_df = pd.DataFrame(train_data)\n",
        "\n",
        "plt.figure(figsize=(6,4))\n",
        "sns.countplot(x='label', data=train_df)\n",
        "plt.title('Class Distribution in Training Set After Augmentation')\n",
        "plt.xlabel('Class')\n",
        "plt.ylabel('Number of Images')\n",
        "plt.show()"
      ]
    },
    {
      "cell_type": "markdown",
      "metadata": {},
      "source": [
        "---"
      ]
    },
    {
      "cell_type": "markdown",
      "metadata": {},
      "source": [
        "NOTE"
      ]
    },
    {
      "cell_type": "markdown",
      "metadata": {},
      "source": [
        "* You may add as many sections as you want, as long as it supports your project workflow.\n",
        "* All notebook's cells should be run top-down (you can't create a dynamic wherein a given point you need to go back to a previous cell to execute some task, like go back to a previous cell and refresh a variable content)"
      ]
    },
    {
      "cell_type": "markdown",
      "metadata": {},
      "source": [
        "---"
      ]
    },
    {
      "cell_type": "markdown",
      "metadata": {
        "id": "ltNetd085qHf"
      },
      "source": [
        "# Push files to Repo"
      ]
    },
    {
      "cell_type": "markdown",
      "metadata": {},
      "source": [
        "* If you don't need to push files to Repo, you may replace this section with \"Conclusions and Next Steps\" and state your conclusions and next steps."
      ]
    },
    {
      "cell_type": "code",
      "execution_count": 25,
      "metadata": {
        "id": "aKlnIozA4eQO",
        "outputId": "fd09bc1f-adb1-4511-f6ce-492a6af570c0"
      },
      "outputs": [
        {
          "ename": "IndentationError",
          "evalue": "expected an indented block after 'try' statement on line 2 (1114530593.py, line 5)",
          "output_type": "error",
          "traceback": [
            "\u001b[0;36m  Cell \u001b[0;32mIn[25], line 5\u001b[0;36m\u001b[0m\n\u001b[0;31m    except Exception as e:\u001b[0m\n\u001b[0m    ^\u001b[0m\n\u001b[0;31mIndentationError\u001b[0m\u001b[0;31m:\u001b[0m expected an indented block after 'try' statement on line 2\n"
          ]
        }
      ],
      "source": [
        "import os\n",
        "try:\n",
        "    # create here your folder\n",
        "    # os.makedirs(name='')\n",
        "except Exception as e:\n",
        "    print(e)\n"
      ]
    }
  ],
  "metadata": {
    "accelerator": "GPU",
    "colab": {
      "name": "Data Practitioner Jupyter Notebook.ipynb",
      "provenance": [],
      "toc_visible": true
    },
    "kernelspec": {
      "display_name": "3.12.1",
      "language": "python",
      "name": "python3"
    },
    "language_info": {
      "codemirror_mode": {
        "name": "ipython",
        "version": 3
      },
      "file_extension": ".py",
      "mimetype": "text/x-python",
      "name": "python",
      "nbconvert_exporter": "python",
      "pygments_lexer": "ipython3",
      "version": "3.12.1"
    },
    "orig_nbformat": 2
  },
  "nbformat": 4,
  "nbformat_minor": 2
}
